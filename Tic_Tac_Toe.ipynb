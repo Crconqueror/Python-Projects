{
  "nbformat": 4,
  "nbformat_minor": 0,
  "metadata": {
    "colab": {
      "provenance": [],
      "authorship_tag": "ABX9TyPZapnUyzu+uW8iQ0Cv5v71",
      "include_colab_link": true
    },
    "kernelspec": {
      "name": "python3",
      "display_name": "Python 3"
    },
    "language_info": {
      "name": "python"
    }
  },
  "cells": [
    {
      "cell_type": "markdown",
      "metadata": {
        "id": "view-in-github",
        "colab_type": "text"
      },
      "source": [
        "<a href=\"https://colab.research.google.com/github/Crconqueror/Python-Projects/blob/main/Tic_Tac_Toe.ipynb\" target=\"_parent\"><img src=\"https://colab.research.google.com/assets/colab-badge.svg\" alt=\"Open In Colab\"/></a>"
      ]
    },
    {
      "cell_type": "code",
      "execution_count": null,
      "metadata": {
        "id": "iLSOuWjOzhz0"
      },
      "outputs": [],
      "source": [
        "def User1Turn(board):\n",
        "  pos = imput(\"Enter X's position:\")\n",
        "  pos = int(pos)\n",
        "  if(board[pos-1]!=0):\n",
        "    print(\"WRONG MOVE NOOB!!!\")\n",
        "    exit(0)\n",
        "  board[pos-1]=1\n",
        "\n",
        "def User2Turn(board):\n",
        "  pos = imput(\"Enter O's position:\")\n",
        "  pos = int(pos)\n",
        "  if(board[pos-1]!=0):\n",
        "    print(\"WRONG MOVE NOOB!!!\")\n",
        "    exit(0)\n",
        "  board[pos-1]=1\n",
        "\n",
        "\n",
        "\n",
        "def ConstBoard(board):\n",
        "  print(\"Current State of the Board: \\n\\n\")\n",
        "  for i in range(0,9):\n",
        "    if ((i>0) and (i%3==0)):\n",
        "      print(\"\\n\")\n",
        "    if (board[i]==0):\n",
        "      print(\"_ \", end=\" \")\n",
        "\n",
        "\n",
        "\n",
        "\n",
        "\n",
        "def analyzeboard(board):\n",
        "  cb = [[0, 1, 2], [3, 4, 5], [6, 7, 8], [0, 3, 6], [1, 4, 7], [2, 5, 8], [0, 4, 8], [], []]\n",
        "\n",
        "  for i in range(0,8):\n",
        "    if ((board[cb[i][0]]!=0) and (board[cb[i][0]]==board[cb[i][1]]) and (baord[cb]))\n",
        "      return board[cb[i][0]]\n",
        "  # Who won\n",
        "  return 0\n",
        "\n",
        "def main():\n",
        "  choice = input(\"Enter 1 for Single Player or 2 for Multiplayer\")\n",
        "  choice = int(choice)\n",
        "  board = [0, 0, 0, 0, 0, 0, 0, 0, 0]\n",
        "  #Code to play against the AI\n",
        "  if(choice==1):\n",
        "  #Code for Multiplayer\n",
        "  else:\n",
        "    for i in range (0,9):\n",
        "      if(analyzeboard(board)!=0):\n",
        "        break\n",
        "      if(if%2==0):\n",
        "        ConstBoard(board)\n",
        "        User1Turn(board)\n",
        "      else:\n",
        "        ConstBoard(board)\n",
        "        User2Turn(board)\n",
        "\n",
        "  x = analyzeboard(board)\n",
        "\n",
        "  if(x==0):\n",
        "    ConstBoard(board)\n",
        "    print(\"Draw!!!\")\n",
        "  if(x==-1):\n",
        "    ConstBoard(board)\n",
        "    print(\"O has won!!!\")\n",
        "  if(x==1):\n",
        "    ConstBoard(board)\n",
        "    print(\"X has won!!!\")\n"
      ]
    },
    {
      "cell_type": "code",
      "source": [],
      "metadata": {
        "id": "25Fo6FSwIEDJ"
      },
      "execution_count": null,
      "outputs": []
    }
  ]
}