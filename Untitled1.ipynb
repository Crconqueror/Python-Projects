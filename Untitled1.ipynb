{
  "nbformat": 4,
  "nbformat_minor": 0,
  "metadata": {
    "colab": {
      "provenance": [],
      "authorship_tag": "ABX9TyMkpxCgwAZkJGAYBjyCIW58",
      "include_colab_link": true
    },
    "kernelspec": {
      "name": "python3",
      "display_name": "Python 3"
    },
    "language_info": {
      "name": "python"
    }
  },
  "cells": [
    {
      "cell_type": "markdown",
      "metadata": {
        "id": "view-in-github",
        "colab_type": "text"
      },
      "source": [
        "<a href=\"https://colab.research.google.com/github/Crconqueror/Python-Projects/blob/main/Untitled1.ipynb\" target=\"_parent\"><img src=\"https://colab.research.google.com/assets/colab-badge.svg\" alt=\"Open In Colab\"/></a>"
      ]
    },
    {
      "cell_type": "code",
      "execution_count": null,
      "metadata": {
        "id": "iLSOuWjOzhz0"
      },
      "outputs": [],
      "source": [
        "def analyzeboard(board):\n",
        "  # Who won\n",
        "  return 0\n",
        "\n",
        "def main():\n",
        "  choice = input(\"Enter 1 for Single Player or 2 for Multiplayer\")\n",
        "  choice = int(choice)\n",
        "  board = [0, 0, 0, 0, 0, 0, 0, 0, 0]\n",
        "  if(choice==1):\n",
        "    #Code to play against the AI\n",
        "  else:\n",
        "    #Code for Multiplayer\n",
        "\n",
        "  analyzeboard(board)"
      ]
    }
  ]
}